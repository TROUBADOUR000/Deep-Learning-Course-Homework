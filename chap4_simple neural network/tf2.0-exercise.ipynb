{
 "cells": [
  {
   "cell_type": "markdown",
   "metadata": {},
   "source": [
    "# PyTorch2.0 小练习"
   ]
  },
  {
   "cell_type": "code",
   "execution_count": 1,
   "metadata": {
    "ExecuteTime": {
     "end_time": "2024-03-12T13:57:16.618443Z",
     "start_time": "2024-03-12T13:57:13.958986Z"
    }
   },
   "outputs": [],
   "source": [
    "import torch\n",
    "import numpy as np"
   ]
  },
  {
   "cell_type": "markdown",
   "metadata": {},
   "source": [
    "## 实现softmax函数"
   ]
  },
  {
   "cell_type": "code",
   "execution_count": 4,
   "metadata": {
    "ExecuteTime": {
     "end_time": "2024-03-12T14:01:32.037970Z",
     "start_time": "2024-03-12T14:01:32.024350Z"
    }
   },
   "outputs": [
    {
     "data": {
      "text/plain": "True"
     },
     "execution_count": 4,
     "metadata": {},
     "output_type": "execute_result"
    }
   ],
   "source": [
    "def softmax(x):\n",
    "    ##########\n",
    "    '''实现softmax函数，只要求对最后一维归一化，\n",
    "    不允许用tf自带的softmax函数'''\n",
    "    ##########\n",
    "    exp_x = torch.exp(x)\n",
    "    prob_x = exp_x / torch.sum(exp_x, dim=-1, keepdim=True)\n",
    "    return prob_x\n",
    "\n",
    "\n",
    "test_data = np.random.normal(size=[10, 5])\n",
    "(softmax(torch.tensor(test_data)).numpy() - torch.nn.Softmax(dim=-1)(torch.tensor(test_data)).numpy())**2 < 0.0001"
   ]
  },
  {
   "cell_type": "markdown",
   "metadata": {},
   "source": [
    "## 实现sigmoid函数"
   ]
  },
  {
   "cell_type": "code",
   "execution_count": 7,
   "metadata": {
    "ExecuteTime": {
     "end_time": "2024-03-12T14:03:15.048318Z",
     "start_time": "2024-03-12T14:03:15.036746Z"
    }
   },
   "outputs": [
    {
     "data": {
      "text/plain": "True"
     },
     "execution_count": 7,
     "metadata": {},
     "output_type": "execute_result"
    }
   ],
   "source": [
    "def sigmoid(x):\n",
    "    ##########\n",
    "    '''实现sigmoid函数， 不允许用tf自带的sigmoid函数'''\n",
    "    ##########\n",
    "    prob_x = 1 / (1 + np.exp(-x))\n",
    "    return prob_x\n",
    "\n",
    "test_data = np.random.normal(size=[10, 5])\n",
    "(sigmoid(torch.tensor(test_data)).numpy() - torch.nn.Sigmoid()(torch.tensor(test_data)).numpy())**2 < 0.0001"
   ]
  },
  {
   "cell_type": "markdown",
   "metadata": {},
   "source": [
    "## 实现 softmax 交叉熵loss函数"
   ]
  },
  {
   "cell_type": "code",
   "execution_count": 67,
   "metadata": {
    "ExecuteTime": {
     "end_time": "2024-03-12T15:07:07.678127Z",
     "start_time": "2024-03-12T15:07:07.662902Z"
    }
   },
   "outputs": [
    {
     "data": {
      "text/plain": "array(True)"
     },
     "execution_count": 67,
     "metadata": {},
     "output_type": "execute_result"
    }
   ],
   "source": [
    "def softmax_ce(x, label):\n",
    "    ##########\n",
    "    '''实现 softmax 交叉熵loss函数， 不允许用tf自带的softmax_cross_entropy函数'''\n",
    "    ##########\n",
    "    # / x.shape[0] 因为 torch.nn.CrossEntropyLoss() 默认reduction='mean'\n",
    "    loss = -torch.sum(label * torch.log(x + 1e-10), dim=-1) / x.shape[0]\n",
    "    loss = torch.mean(loss)\n",
    "    return loss\n",
    "\n",
    "test_data = np.random.normal(size=[10, 5])\n",
    "prob = torch.nn.Softmax(dim=-1)(torch.tensor(test_data))\n",
    "label = np.zeros_like(test_data)\n",
    "label[np.arange(10), np.random.randint(0, 5, size=10)] = 1.\n",
    "\n",
    "((torch.nn.CrossEntropyLoss()(torch.tensor(test_data), torch.tensor(label)) / label.shape[0] - softmax_ce(prob, torch.tensor(label)))**2 < 0.0001).numpy()"
   ]
  },
  {
   "cell_type": "markdown",
   "metadata": {},
   "source": [
    "## 实现 sigmoid 交叉熵loss函数"
   ]
  },
  {
   "cell_type": "code",
   "execution_count": 77,
   "metadata": {
    "ExecuteTime": {
     "end_time": "2024-03-12T15:25:32.907457Z",
     "start_time": "2024-03-12T15:25:32.878904Z"
    }
   },
   "outputs": [
    {
     "name": "stdout",
     "output_type": "stream",
     "text": [
      "[1. 1. 0. 0. 1. 1. 1. 0. 0. 0.]\n"
     ]
    },
    {
     "data": {
      "text/plain": "array(True)"
     },
     "execution_count": 77,
     "metadata": {},
     "output_type": "execute_result"
    }
   ],
   "source": [
    "def sigmoid_ce(x, label):\n",
    "    ##########\n",
    "    '''实现 softmax 交叉熵loss函数， 不允许用tf自带的softmax_cross_entropy函数'''\n",
    "    ##########\n",
    "    loss = -torch.sum(label * torch.log(x + 1e-10) + (1 - label) * torch.log(1 - x + 1e-10), dim=-1) / x.shape[0]\n",
    "    loss = torch.mean(loss)\n",
    "    return loss\n",
    "\n",
    "test_data = np.random.normal(size=[10]).astype(np.float32)\n",
    "prob = torch.nn.Sigmoid()(torch.LongTensor(test_data))\n",
    "label = np.random.randint(0, 2, 10).astype(test_data.dtype)\n",
    "\n",
    "print(label)\n",
    "\n",
    "\n",
    "((torch.nn.BCELoss()(prob, torch.tensor(label)) - sigmoid_ce(prob, torch.tensor(label)))**2 < 0.0001).numpy()"
   ]
  },
  {
   "cell_type": "markdown",
   "source": [
    "torch实现sigmoid_cross_entropy_with_logits的方法\n",
    "因为torch.nn.CrossEntropyLoss()相当于把torch.nn.LogSoftmax()作为torch.nn.NLLoss()输入\n",
    "得到的prob = torch.nn.Sigmoid()(torch.tensor(test_data))输入torch.nn.CrossEntropyLoss()后又会进行LogSoftmax操作\n",
    "因此我们需要将prob输入BCELoss从而模拟sigmoid_cross_entropy_with_logits"
   ],
   "metadata": {
    "collapsed": false
   }
  }
 ],
 "metadata": {
  "kernelspec": {
   "display_name": "Python 3",
   "language": "python",
   "name": "python3"
  },
  "language_info": {
   "codemirror_mode": {
    "name": "ipython",
    "version": 3
   },
   "file_extension": ".py",
   "mimetype": "text/x-python",
   "name": "python",
   "nbconvert_exporter": "python",
   "pygments_lexer": "ipython3",
   "version": "3.7.0"
  }
 },
 "nbformat": 4,
 "nbformat_minor": 2
}
